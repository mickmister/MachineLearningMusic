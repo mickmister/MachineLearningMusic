{
 "cells": [
  {
   "cell_type": "code",
   "execution_count": 213,
   "metadata": {
    "collapsed": true
   },
   "outputs": [],
   "source": [
    "import pandas as pd\n",
    "import numpy as np"
   ]
  },
  {
   "cell_type": "code",
   "execution_count": 214,
   "metadata": {
    "collapsed": true
   },
   "outputs": [],
   "source": [
    "music_notes = ['C', 'C#', 'D', 'D#', 'E', 'F', 'F#', 'G', 'G#', 'A', 'A#', 'B']"
   ]
  },
  {
   "cell_type": "code",
   "execution_count": 271,
   "metadata": {
    "collapsed": false
   },
   "outputs": [],
   "source": [
    "df = pd.read_csv('chromagram3.csv')"
   ]
  },
  {
   "cell_type": "code",
   "execution_count": 284,
   "metadata": {
    "collapsed": false
   },
   "outputs": [
    {
     "data": {
      "text/plain": [
       "C      9035.274985\n",
       "C#     5461.080173\n",
       "D      3615.109868\n",
       "D#     7214.616700\n",
       "E     11259.506552\n",
       "F      7921.926939\n",
       "F#     5425.075456\n",
       "G      7023.777481\n",
       "G#    10347.231777\n",
       "A     11618.093129\n",
       "A#     9121.230922\n",
       "B      9692.541442\n",
       "dtype: float64"
      ]
     },
     "execution_count": 284,
     "metadata": {},
     "output_type": "execute_result"
    }
   ],
   "source": [
    "df.tail()"
   ]
  },
  {
   "cell_type": "code",
   "execution_count": 285,
   "metadata": {
    "collapsed": false
   },
   "outputs": [
    {
     "name": "stdout",
     "output_type": "stream",
     "text": [
      "C: 9035.27498514\n",
      "C#: 5461.08017283\n",
      "D: 3615.10986792\n",
      "D#: 7214.61669952\n",
      "E: 11259.5065521\n",
      "F: 7921.92693896\n",
      "F#: 5425.07545632\n",
      "G: 7023.77748066\n",
      "G#: 10347.2317771\n",
      "A: 11618.093129\n",
      "A#: 9121.23092197\n",
      "B: 9692.54144216\n"
     ]
    }
   ],
   "source": [
    "probs = []\n",
    "for k in music_notes:\n",
    "    prob = df[k].sum()\n",
    "    print('{0}: {1}'.format(k, prob))\n",
    "    probs.append(prob)"
   ]
  },
  {
   "cell_type": "code",
   "execution_count": 286,
   "metadata": {
    "collapsed": false
   },
   "outputs": [],
   "source": [
    "def getLargestIndex(numbers):\n",
    "    return numbers.index(max(numbers))\n",
    "\n",
    "def getSecondLargest(numbers):\n",
    "    count = 0\n",
    "    m1 = m2 = float('-inf')\n",
    "    for x in numbers:\n",
    "        count += 1\n",
    "        if x > m2:\n",
    "            if x >= m1:\n",
    "                m1, m2 = x, m1            \n",
    "            else:\n",
    "                m2 = x\n",
    "    return m2 if count >= 2 else None\n",
    "\n",
    "def getSecondLargestIndex(numbers):\n",
    "    return numbers.index(getSecondLargest(numbers))"
   ]
  },
  {
   "cell_type": "code",
   "execution_count": 287,
   "metadata": {
    "collapsed": false
   },
   "outputs": [],
   "source": [
    "def getLargestKey(all_prob):\n",
    "    tonic = getLargestIndex(all_prob)\n",
    "    return getKey(tonic, all_prob)\n",
    "\n",
    "def getSecondLargestKey(all_prob):\n",
    "    tonic = getSecondLargestIndex(all_prob)\n",
    "    return getKey(tonic, all_prob)\n",
    "\n",
    "def getSum(arr, indices):\n",
    "    sum = 0\n",
    "    for k in indices:\n",
    "        sum += arr[k]\n",
    "    return sum\n",
    "\n",
    "minor_scale = [2, 3, 5, 7, 8, 10]\n",
    "major_scale = [2, 4, 5, 7, 9, 11]\n",
    "\n",
    "def isMinor(tonic, all_prob):\n",
    "#     all_prob[minorIndex] > all_prob[majorIndex]\n",
    "    minor_indices = [((k + tonic) % 12) for k in minor_scale]\n",
    "    minor_sum = getSum(all_prob, minor_indices)\n",
    "                       \n",
    "                       \n",
    "    major_indices = [((k + tonic) % 12) for k in major_scale]\n",
    "    major_sum = getSum(all_prob, major_indices)\n",
    "    print('Minor {0}'.format(minor_sum))\n",
    "    print('Major {0}'.format(major_sum))\n",
    "    return minor_sum > major_sum\n",
    "    \n",
    "def getKey(tonic, all_prob):\n",
    "    minorIndex = (tonic + 3) % 12\n",
    "    majorIndex = (tonic + 4) % 12\n",
    "    third = 3 if isMinor(tonic, all_prob) else 4\n",
    "    return tonic, third"
   ]
  },
  {
   "cell_type": "code",
   "execution_count": 288,
   "metadata": {
    "collapsed": false
   },
   "outputs": [],
   "source": [
    "def getKeyNameAndProb(tonic, third):\n",
    "    tonic_name = music_notes[tonic]\n",
    "    feel = 'Minor' if third == 3 else 'Major'\n",
    "    combo = '{0} {1}'.format(tonic_name, feel)\n",
    "    print(combo)\n",
    "    x = probs[tonic]\n",
    "    y = probs[(tonic + third) % 12]\n",
    "    total_prob = x * y\n",
    "    print(total_prob)\n",
    "    return combo, total_prob"
   ]
  },
  {
   "cell_type": "code",
   "execution_count": 289,
   "metadata": {
    "collapsed": true
   },
   "outputs": [],
   "source": [
    "def isSad(x1, x2):\n",
    "    temp = x1 if x1[1] > x2[1] else x2\n",
    "    print(temp[0])\n",
    "    return 'Minor' in temp[0]"
   ]
  },
  {
   "cell_type": "code",
   "execution_count": 290,
   "metadata": {
    "collapsed": false
   },
   "outputs": [
    {
     "name": "stdout",
     "output_type": "stream",
     "text": [
      "Minor 48548.1372669\n",
      "Major 45800.5452685\n",
      "A Minor\n",
      "104972666.224\n",
      "----------\n",
      "Minor 46409.8723612\n",
      "Major 49758.638677\n",
      "E Major\n",
      "116504723.991\n",
      "----------\n",
      "E Major\n",
      "Not Sad\n"
     ]
    }
   ],
   "source": [
    "tup1 = getLargestKey(probs)\n",
    "x1 = getKeyNameAndProb(tup1[0], tup1[1])\n",
    "print('-' * 10)\n",
    "tup2 = getSecondLargestKey(probs)\n",
    "x2 = getKeyNameAndProb(tup2[0], tup2[1])\n",
    "print('-' * 10)\n",
    "sad = isSad(x1, x2)\n",
    "result = 'Sad' if sad else 'Not Sad'\n",
    "print(result)"
   ]
  },
  {
   "cell_type": "code",
   "execution_count": null,
   "metadata": {
    "collapsed": true
   },
   "outputs": [],
   "source": []
  },
  {
   "cell_type": "code",
   "execution_count": null,
   "metadata": {
    "collapsed": false
   },
   "outputs": [],
   "source": []
  },
  {
   "cell_type": "code",
   "execution_count": null,
   "metadata": {
    "collapsed": true
   },
   "outputs": [],
   "source": []
  }
 ],
 "metadata": {
  "kernelspec": {
   "display_name": "Python 2",
   "language": "python",
   "name": "python2"
  },
  "language_info": {
   "codemirror_mode": {
    "name": "ipython",
    "version": 2
   },
   "file_extension": ".py",
   "mimetype": "text/x-python",
   "name": "python",
   "nbconvert_exporter": "python",
   "pygments_lexer": "ipython2",
   "version": "2.7.11"
  }
 },
 "nbformat": 4,
 "nbformat_minor": 0
}
